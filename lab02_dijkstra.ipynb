{
 "cells": [
  {
   "attachments": {},
   "cell_type": "markdown",
   "metadata": {},
   "source": [
    "# Path Planning On a Grid :: Revisiting Dijkstra aka Dijkstra with the SearchNodes"
   ]
  },
  {
   "attachments": {},
   "cell_type": "markdown",
   "metadata": {},
   "source": [
    "<center><img src=\"./img/1.png\"/></center>"
   ]
  },
  {
   "attachments": {},
   "cell_type": "markdown",
   "metadata": {},
   "source": [
    "In this lab, we will consider the problem of finding the shortest path on a graph with a special structure, widely used in robotics and computer games — a grid. The grid consists of both free and blocked cells, and an agent can move from one free cell to another. The connectivity of the grid may vary; for example, a grid might be 4-connected when only cardinal moves (N, E, W, S) are allowed, or 8-connected when diagonal moves are allowed as well.\n",
    "\n",
    "**In this lab, we assume that the grid is 4-connected**, meaning that only moves into the cardinal directions (N, E, W, S) are allowed. The cost of each move between two neighboring cells, represented as $v$ and $v'$, is uniform, with $cost(v, v') = 1$.\n",
    "\n",
    "We will explore the seminal `Dijkstra` algorithm for finding the shortest path on a grid. However, our focus is on implementing this algorithm as a \"heuristic search without heuristic,\" utilizing the distinct `SearchNode` structure, along with concepts like `Open` and `Closed`.\n",
    "\n",
    "*The more advanced algorithms we will be discussing in the next labs will build upon much of this implementation. Therefore, it's crucial to ensure that your code is both correct and efficient.*\n",
    "\n",
    "Your task is to complete the missing code fragments as per the provided prompts and execute every cell in this notebook. All tests should pass successfully.\n",
    "\n",
    "Let's get started!\n"
   ]
  },
  {
   "attachments": {},
   "cell_type": "markdown",
   "metadata": {},
   "source": [
    "<center><img src=\"./img/2.png\"/></center>"
   ]
  },
  {
   "cell_type": "code",
   "execution_count": 67,
   "metadata": {
    "tags": []
   },
   "outputs": [],
   "source": [
    "import random\n",
    "import traceback\n",
    "from heapq import heappop, heappush\n",
    "from pathlib import Path\n",
    "from textwrap import dedent\n",
    "from typing import Callable, Dict, Iterable, List, Optional, Tuple, Type, Union\n",
    "\n",
    "import matplotlib.pyplot as plt\n",
    "import numpy as np\n",
    "import numpy.typing as npt\n",
    "from PIL import Image, ImageDraw\n",
    "\n",
    "%matplotlib inline"
   ]
  },
  {
   "attachments": {},
   "cell_type": "markdown",
   "metadata": {},
   "source": [
    "## Grid map representation "
   ]
  },
  {
   "cell_type": "code",
   "execution_count": 68,
   "metadata": {
    "tags": []
   },
   "outputs": [],
   "source": [
    "from utils.Map import Map\n",
    "from utils.utils import convert_string_to_cells"
   ]
  },
  {
   "attachments": {},
   "cell_type": "markdown",
   "metadata": {},
   "source": [
    "Computes the cost of a transition from cell `(i1, j1)` to cell `(i2, j2)`. In the case of a 4-connected grid, the cost is always equal to 1. Consequently, the cost of each path is an integer.\n",
    "\n",
    "However, please note that if the grid's connectivity exceeds 4, the cost of a transition may vary and may become fractional or even arbitrary (e.g., $\\sqrt{2}$ for diagonal moves).\n",
    "\n",
    "Recall that in this lab, we assume a 4-connected grid, meaning that only cardinal moves (up, down, left, right) are allowed, and as a result, all costs are integers."
   ]
  },
  {
   "cell_type": "code",
   "execution_count": 69,
   "metadata": {
    "tags": []
   },
   "outputs": [],
   "source": [
    "from utils.utils import compute_cost"
   ]
  },
  {
   "attachments": {},
   "cell_type": "markdown",
   "metadata": {},
   "source": [
    "## Search Node\n",
    "\n",
    "A Search node is a fundamental concept of a search algorithm. It encapsulates data about the state of the problem (e.g., the position of a robot on a grid) and the information needed to construct a search tree, including g-value, backpointer to its predecessor etc.\n"
   ]
  },
  {
   "cell_type": "code",
   "execution_count": 70,
   "metadata": {
    "tags": []
   },
   "outputs": [],
   "source": [
    "from utils.Node import Node"
   ]
  },
  {
   "attachments": {},
   "cell_type": "markdown",
   "metadata": {},
   "source": [
    "## Visualization"
   ]
  },
  {
   "cell_type": "code",
   "execution_count": 71,
   "metadata": {
    "tags": []
   },
   "outputs": [],
   "source": [
    "from utils.utils import draw"
   ]
  },
  {
   "attachments": {},
   "cell_type": "markdown",
   "metadata": {},
   "source": [
    "Example of the visualization"
   ]
  },
  {
   "cell_type": "code",
   "execution_count": 72,
   "metadata": {
    "tags": []
   },
   "outputs": [
    {
     "data": {
      "image/png": "[encoded data removed]",
      "text/plain": [
       "<Figure size 960x720 with 1 Axes>"
      ]
     },
     "metadata": {},
     "output_type": "display_data"
    }
   ],
   "source": [
    "height = 15\n",
    "width = 30\n",
    "map_str = \"\"\"\n",
    ". . . . . . . . . . . . . . . . . . . . . # # . . . . . . .  \n",
    ". . . . . . . . . . . . . . . . . . . . . # # . . . . . . . \n",
    ". . . . . . . . . . . . . . . . . . . . . # # . . . . . . . \n",
    ". . . # # . . . . . . . . . . . . . . . . # # . . . . . . . \n",
    ". . . # # . . . . . . . . # # . . . . . . # # . . . . . . . \n",
    ". . . # # . . . . . . . . # # . . . . . . # # # # # . . . . \n",
    ". . . # # . . . . . . . . # # . . . . . . # # # # # . . . . \n",
    ". . . # # . . . . . . . . # # . . . . . . . . . . . . . . . \n",
    ". . . # # . . . . . . . . # # . . . . . . . . . . . . . . . \n",
    ". . . # # . . . . . . . . # # . . . . . . . . . . . . . . . \n",
    ". . . # # . . . . . . . . # # . . . . . . . . . . . . . . . \n",
    ". . . # # . . . . . . . . # # . . . . . . . . . . . . . . . \n",
    ". . . . . . . . . . . . . # # . . . . . . . . . . . . . . . \n",
    ". . . . . . . . . . . . . # # . . . . . . . . . . . . . . .\n",
    ". . . . . . . . . . . . . # # . . . . . . . . . . . . . . .\n",
    "\"\"\"\n",
    "cells = convert_string_to_cells(map_str)\n",
    "\n",
    "test_map = Map(cells)\n",
    "start = Node(1, 1)\n",
    "goal = Node(13, 28)\n",
    "draw(test_map, start, goal)"
   ]
  },
  {
   "attachments": {},
   "cell_type": "markdown",
   "metadata": {},
   "source": [
    "## Implementing the Search Tree (i.e., OPEN and CLOSED)\n",
    "An efficient implementation of the search tree (`OPEN` and `CLOSED`) is crucial for any search algorithm. Below, you'll find a basic implementation that uses lists to store the elements of `OPEN` and `CLOSED`. This method isn't very efficient, and you are tasked with creating your own implementations.\n",
    "\n",
    "It's a good idea to start by modifying `CLOSED` since it's relatively straightforward. After making changes, ensure everything works OK—i.e., the search algorithms run faster and produce the right results. Following that, you can proceed to modify `OPEN`, which might be more challenging than it initially appears.\n",
    "\n",
    "PS: Feel free to add additional fields, methods, method arguments, etc., to your implementations.\n"
   ]
  },
  {
   "cell_type": "code",
   "execution_count": 73,
   "metadata": {},
   "outputs": [],
   "source": [
    "class SearchTreeL:\n",
    "    \"\"\"\n",
    "    SearchTree that uses Lists for OPEN and CLOSED (NOT EFFICIENT).\n",
    "    \"\"\"\n",
    "\n",
    "    def __init__(self):\n",
    "        self._open = []  # List for the OPEN nodes\n",
    "        self._closed = []  # List for the expanded nodes, i.e. CLOSED\n",
    "        # No duplicates are present in a list-based implementation, so this always equals 0\n",
    "        self._enc_open_duplicates = 0\n",
    "\n",
    "    def __len__(self) -> int:\n",
    "        \"\"\"\n",
    "        Returns the size of the search tree. Typically, this is used to know\n",
    "        the size of the search tree at the last iteration of the search,\n",
    "        to assess the memory footprint of the algorithm.\n",
    "        \"\"\"\n",
    "        return len(self._open) + len(self._closed)\n",
    "\n",
    "    def open_is_empty(self) -> bool:\n",
    "        \"\"\"\n",
    "        Indicates whether OPEN is exhausted or not.\n",
    "        If it is, the main search loop should be interrupted.\n",
    "        \"\"\"\n",
    "        return len(self._open) == 0\n",
    "\n",
    "    def add_to_open(self, item: Node):\n",
    "        \"\"\"\n",
    "        Adds a (previously not expanded) node to the search tree (i.e., to OPEN).\n",
    "        It can either be a totally new node (one we haven't encountered before)\n",
    "        or a duplicate of a node that currently resides in OPEN.\n",
    "        In this implementation, duplicates are detected upon addition. So,\n",
    "        if the newly added node corresponds to the same state (has the same coordinates),\n",
    "        we check if the g-value of the new node is better (lower) than the old one.\n",
    "        If it is, we replace the old node with the new one (since it's better).\n",
    "        Otherwise, we discard the new node.\n",
    "        \"\"\"\n",
    "\n",
    "        if item not in self._open:\n",
    "            self._open.append(item)\n",
    "        else:\n",
    "            for i, node in enumerate(self._open):\n",
    "                if node == item:\n",
    "                    if item < node:\n",
    "                        self._open[i] = item\n",
    "                    break\n",
    "\n",
    "\n",
    "    def get_best_node_from_open(self) -> Node:\n",
    "        \"\"\"\n",
    "        Extracts the best node (i.e., the one with the minimal key\n",
    "        = min f-value = min g-value (for Dijkstra)) from OPEN.\n",
    "        This node will be further expanded in the main search loop.\n",
    "        \"\"\"\n",
    "        # <YOUR CODE GOES HERE>\n",
    "\n",
    "        best_node = self._open[0]\n",
    "\n",
    "        for node in self._open[1:]:\n",
    "            if node < best_node:\n",
    "                best_node = node\n",
    "\n",
    "        self._open.remove(best_node)\n",
    "        return best_node\n",
    "\n",
    "    def add_to_closed(self, item: Node):\n",
    "        # <YOUR CODE GOES HERE>\n",
    "        self._closed.append(item)\n",
    "\n",
    "    def was_expanded(self, item: Node) -> bool:\n",
    "        # <YOUR CODE GOES HERE>\n",
    "        return item in self._closed\n",
    "    \n",
    "\n",
    "    @property\n",
    "    def opened(self):\n",
    "        return self._open\n",
    "\n",
    "    @property\n",
    "    def expanded(self):\n",
    "        return self._closed\n",
    "\n",
    "    @property\n",
    "    def number_of_open_duplicates(self):\n",
    "        return self._enc_open_duplicates"
   ]
  },
  {
   "attachments": {},
   "cell_type": "markdown",
   "metadata": {},
   "source": [
    "Next, you need to implement the search tree with the following features:\n",
    "- A dictionary for CLOSED\n",
    "- A priority queue for OPEN\n",
    "- Lazy duplicate detection in OPEN\n",
    "\n",
    "The last point implies that every time you generate a node that has not been previously expanded, you should simply add it to OPEN (i.e., add it to the priority queue where priority is determined by the `Node.__lt__` comparator). This approach may frequently lead to situations where the same node, possibly with a different $g$-value, is already in OPEN. To handle this, every time you extract the best node from OPEN, check if the node has been previously expanded. If the node has been expanded before, the current node is considered a 'bad duplicate' (a duplicate with a higher $g$-value) and should be discarded.\n",
    "\n",
    "To monitor the number of OPEN duplicates encountered during the search, use `_enc_open_duplicates`. Increment this value by 1 every time you discard a 'bad duplicate'.\n",
    "\n",
    "PS: Remember to handle the situation where only 'bad duplicates' remain in OPEN correctly.\n"
   ]
  },
  {
   "cell_type": "code",
   "execution_count": 74,
   "metadata": {},
   "outputs": [],
   "source": [
    "class SearchTreePQD:\n",
    "    \"\"\"\n",
    "    SearchTree using a priority queue for OPEN and a dictionary for CLOSED.\n",
    "    \"\"\"\n",
    "\n",
    "    def __init__(self):\n",
    "        self._open = []  # Priority queue for nodes in OPEN\n",
    "        self._closed = dict()  # Dictionary for nodes in CLOSED (expanded nodes)\n",
    "        self._enc_open_duplicates = 0  # Number of duplicates encountered in OPEN\n",
    "\n",
    "    def __len__(self) -> int:\n",
    "        \"\"\"\n",
    "        Returns the size of the search tree. Useful for assessing the memory\n",
    "        footprint of the algorithm, especially at the final iteration.\n",
    "        \"\"\"\n",
    "        return len(self._open) + len(self._closed)\n",
    "\n",
    "    def open_is_empty(self) -> bool:\n",
    "        \"\"\"\n",
    "        Checks if OPEN is empty.\n",
    "        If true, the main search loop should be interrupted.\n",
    "        \"\"\"\n",
    "        return len(self._open) == 0\n",
    "\n",
    "    def add_to_open(self, item: Node):\n",
    "        \"\"\"\n",
    "        Adds a node to the search tree, specifically to OPEN. This node is either\n",
    "        entirely new or a duplicate of an existing node in OPEN.\n",
    "        This implementation detects duplicates lazily; thus, nodes are added to\n",
    "        OPEN without initial duplicate checks.\n",
    "        \"\"\"\n",
    "        # <YOUR CODE GOES HERE>\n",
    "        heappush(self._open, item)\n",
    "\n",
    "    def get_best_node_from_open(self) -> Optional[Node]:\n",
    "        \"\"\"\n",
    "        Retrieves the best node from OPEN, defined by the minimum key.\n",
    "        This node will then be expanded in the main search loop.\n",
    "\n",
    "        Duplicates are managed here. If a node has been expanded previously\n",
    "        (and is in CLOSED), it's skipped and the next best node is considered.\n",
    "\n",
    "        Returns None if OPEN is empty.\n",
    "        \"\"\"\n",
    "        # <YOUR CODE GOES HERE>\n",
    "        best_node = None\n",
    "        if not self.open_is_empty():\n",
    "            node=heappop(self._open)\n",
    "            if not self.was_expanded(node):\n",
    "                best_node = node\n",
    "            else:\n",
    "                self._enc_open_duplicates += 1\n",
    "                while not self.open_is_empty():\n",
    "                    node=heappop(self._open)\n",
    "                    if not self.was_expanded(node):\n",
    "                        best_node = node\n",
    "                        break\n",
    "                    self._enc_open_duplicates += 1\n",
    "        return best_node\n",
    "\n",
    "\n",
    "    def add_to_closed(self, item: Node):\n",
    "        \"\"\"\n",
    "        Adds a node to the CLOSED dictionary.\n",
    "        \"\"\"\n",
    "        # <YOUR CODE GOES HERE>\n",
    "        self._closed[item] = item\n",
    "\n",
    "    def was_expanded(self, item: Node) -> bool:\n",
    "        \"\"\"\n",
    "        Checks if a node has been previously expanded.\n",
    "        \"\"\"\n",
    "        # <YOUR CODE GOES HERE>\n",
    "        return item in self._closed\n",
    "\n",
    "    @property\n",
    "    def opened(self):\n",
    "        return self._open\n",
    "\n",
    "    @property\n",
    "    def expanded(self):\n",
    "        return self._closed.values()\n",
    "\n",
    "    @property\n",
    "    def number_of_open_duplicates(self):\n",
    "        return self._enc_open_duplicates"
   ]
  },
  {
   "attachments": {},
   "cell_type": "markdown",
   "metadata": {},
   "source": [
    "## Validating the results\n"
   ]
  },
  {
   "cell_type": "code",
   "execution_count": 75,
   "metadata": {},
   "outputs": [],
   "source": [
    "from utils.utils import read_task_from_file, make_path"
   ]
  },
  {
   "attachments": {},
   "cell_type": "markdown",
   "metadata": {},
   "source": [
    "When you finish implementing search algorithms, you'll naturally want to test them. The following functions will help you in doing just that.\n",
    "\n",
    "`simple_test` runs the pathfinding algorithm on a single, straightforward instance, while `massive_test` executes it on a series of more involved instances. Both tests operate under the assumption that the search function follows the pattern below:\n",
    "\n",
    "```\n",
    "search(task_map, start.i, start.j, goal.i, goal.j, *optional arguments*) -> (path_found, last_state, steps, search_tree_size, open, closed)\n",
    "```\n",
    "\n",
    "These automated tests anticipate that the search function, which is passed as an input, adheres to the following structure:\n",
    "\n",
    "- `task_map` is the grid\n",
    "- `start.i, start.j` are the  $(i, j)$ coordinates of the starting cell\n",
    "- `goal.i, goal.j` are the $(i, j)$ coordinates of the goal cell\n",
    "- `*optional arguments*` represent additional parameters of the search function, passed with *args. For instance, the heuristic function.\n",
    "- `path_found` is `True` if a path was found and `False` otherwise\n",
    "- `last_state` denotes the last state of the path. It returns `None` if a path was not found\n",
    "- `steps` provides the number of search steps taken\n",
    "- `search_tree_size` represents the number of nodes that make up the search tree at the final iteration of the algorithm, which equates to the size of the resultant search tree.\n",
    "- `open` is an iterable collection of the nodes that form the search frontier (OPEN nodes)\n",
    "- `closed` is an iterable collection of the expanded nodes (CLOSED)\n"
   ]
  },
  {
   "attachments": {},
   "cell_type": "markdown",
   "metadata": {},
   "source": [
    "## Dijkstra algorithm\n",
    "\n",
    "The input is:\n",
    "- map representation\n",
    "- start/goal cells\n",
    "- a reference to the implementation of the SearchTree\n",
    "\n",
    "The output is:\n",
    "- path found flag (`true` or `false`)\n",
    "- last node of the path (so one can unwind it using the parent-pointers and get the full path)\n",
    "- the number of steps (iterations of the main loop)\n",
    "- the number of nodes that compose the search tree at the final iteration of the algorithm (=the size of the resultant search tree)\n",
    "- OPEN and CLOSED (as iterable collections of nodes) for further visualization purposes\n",
    "\n",
    "\n",
    "PS: You might also want to display, at the final iteration, the number of OPEN duplicates encountered during the search, as shown below:\n",
    "\n",
    "```print(\"During the search, the following number of OPEN dublicates was encountered: \", dst.number_of_open_duplicates) ```\n"
   ]
  },
  {
   "cell_type": "code",
   "execution_count": 76,
   "metadata": {},
   "outputs": [],
   "source": [
    "def dijkstra(\n",
    "    task_map: Map,\n",
    "    start_i: int,\n",
    "    start_j: int,\n",
    "    goal_i: int,\n",
    "    goal_j: int,\n",
    "    search_tree: Union[Type[SearchTreeL], Type[SearchTreePQD]],\n",
    ") -> Tuple[bool, Optional[Node], int, int, Optional[Iterable[Node]], Optional[Iterable[Node]]]:\n",
    "    \"\"\"\n",
    "    Implementation of Dijkstra algorithm.\n",
    "    \"\"\"\n",
    "\n",
    "    dst = search_tree()  # Dijkstra's search tree\n",
    "    steps = 0\n",
    "    start_node = Node(start_i, start_j, g=0)\n",
    "    dst.add_to_open(start_node)\n",
    "    flag = False\n",
    "    # <YOUR CODE GOES HERE>\n",
    "    node = None\n",
    "\n",
    "    while not dst.open_is_empty():\n",
    "        node = dst.get_best_node_from_open()\n",
    "        if node is None:\n",
    "            break\n",
    "\n",
    "        steps += 1\n",
    "        dst.add_to_closed(node)\n",
    "        if (node.i, node.j) == (goal_i, goal_j):\n",
    "            flag = True\n",
    "            break\n",
    "        for succ_i, succ_j in task_map.get_neighbors(node.i, node.j):\n",
    "            g = node.g + compute_cost(node.i, node.j, succ_i, succ_j)\n",
    "            succ_node = Node(succ_i, succ_j, g, node)\n",
    "\n",
    "            if not dst.was_expanded(succ_node):\n",
    "                dst.add_to_open(succ_node)\n",
    "\n",
    "       \n",
    "    return flag, node, steps, len(dst), dst.opened, dst.expanded"
   ]
  },
  {
   "attachments": {},
   "cell_type": "markdown",
   "metadata": {},
   "source": [
    "## Now let's test the implementation.\n",
    "\n",
    "Begin by executing the algorithm using the initial list-based search-tree implementation. Ensure that you receive the expected results on the given simple tests.\n"
   ]
  },
  {
   "cell_type": "code",
   "execution_count": 77,
   "metadata": {},
   "outputs": [],
   "source": [
    "from utils.lab_test import simple_test, massive_test, simple_test_not_found"
   ]
  },
  {
   "cell_type": "code",
   "execution_count": 78,
   "metadata": {
    "scrolled": true,
    "tags": []
   },
   "outputs": [
    {
     "data": {
      "image/png": "[encoded data removed]",
      "text/plain": [
       "<Figure size 960x720 with 1 Axes>"
      ]
     },
     "metadata": {},
     "output_type": "display_data"
    },
    {
     "name": "stdout",
     "output_type": "stream",
     "text": [
      "Path found! Length: 23. Search tree size: 372. Number of steps: 367. Correct: True\n",
      "CPU times: user 94.5 ms, sys: 3.81 ms, total: 98.4 ms\n",
      "Wall time: 122 ms\n"
     ]
    }
   ],
   "source": [
    "\"\"\"\n",
    "The code should execute correctly if your Dijkstra implementation is accurate.\n",
    "Experiment with the test instance number (the 2nd argument) to execute the search algorithm on various start/goal pairs.\n",
    "\"\"\"\n",
    "%time res = simple_test(dijkstra, 12, SearchTreeL)"
   ]
  },
  {
   "cell_type": "code",
   "execution_count": 79,
   "metadata": {},
   "outputs": [
    {
     "data": {
      "image/png": "[encoded data removed]",
      "text/plain": [
       "<Figure size 960x720 with 1 Axes>"
      ]
     },
     "metadata": {},
     "output_type": "display_data"
    },
    {
     "name": "stdout",
     "output_type": "stream",
     "text": [
      "Path not found! Search tree size: 265. Number of steps: 265. Correct: True\n",
      "CPU times: user 66.3 ms, sys: 0 ns, total: 66.3 ms\n",
      "Wall time: 66.2 ms\n"
     ]
    }
   ],
   "source": [
    "\"\"\"\n",
    "The code will execute correctly if the Dijkstra implementation properly handles cases where a path doesn't exist.\n",
    "\"\"\"\n",
    "%time res = simple_test_not_found(dijkstra, 0, SearchTreeL)"
   ]
  },
  {
   "attachments": {},
   "cell_type": "markdown",
   "metadata": {},
   "source": [
    "Now, integrate your optimized search tree implementation (`SearchTreePQD`), into Dijkstra.\n",
    "\n",
    "You should observe an improvement in performance, indicated by a reduced runtime.\n",
    "\n",
    "However, due to the lazy duplicate detection, the number of OPEN duplicates encountered during the search might be greater than zero. Consequently, the size of the final search tree might be larger (when compared to the list-based Dijkstra), as some duplicates might remain in OPEN at the search's final iteration.\n"
   ]
  },
  {
   "cell_type": "code",
   "execution_count": 80,
   "metadata": {},
   "outputs": [
    {
     "data": {
      "image/png": "[encoded data removed]",
      "text/plain": [
       "<Figure size 960x720 with 1 Axes>"
      ]
     },
     "metadata": {},
     "output_type": "display_data"
    },
    {
     "name": "stdout",
     "output_type": "stream",
     "text": [
      "Path found! Length: 23. Search tree size: 378. Number of steps: 367. Correct: True\n",
      "CPU times: user 68.7 ms, sys: 3.83 ms, total: 72.5 ms\n",
      "Wall time: 74 ms\n"
     ]
    }
   ],
   "source": [
    "\"\"\"\n",
    "The code should execute correctly if your Dijkstra implementation is accurate.\n",
    "Experiment with the test instance number (the 2nd argument) to execute the search algorithm on various start/goal pairs.\n",
    "\"\"\"\n",
    "%time res = simple_test(dijkstra, 12, SearchTreePQD)"
   ]
  },
  {
   "cell_type": "code",
   "execution_count": 81,
   "metadata": {},
   "outputs": [
    {
     "data": {
      "image/png": "[encoded data removed]",
      "text/plain": [
       "<Figure size 960x720 with 1 Axes>"
      ]
     },
     "metadata": {},
     "output_type": "display_data"
    },
    {
     "name": "stdout",
     "output_type": "stream",
     "text": [
      "Path not found! Search tree size: 265. Number of steps: 265. Correct: True\n",
      "CPU times: user 74.5 ms, sys: 4.09 ms, total: 78.6 ms\n",
      "Wall time: 78.8 ms\n"
     ]
    }
   ],
   "source": [
    "\"\"\"\n",
    "The code will execute correctly if the Dijkstra implementation properly handles cases where a path doesn't exist.\n",
    "\"\"\"\n",
    "%time res = simple_test_not_found(dijkstra, 0, SearchTreePQD)"
   ]
  },
  {
   "attachments": {},
   "cell_type": "markdown",
   "metadata": {},
   "source": [
    "The following cell runs the search algorithm on two larger instances.\n",
    "\n",
    "The default (list-based) implementation of OPEN/CLOSED will be slow."
   ]
  },
  {
   "cell_type": "code",
   "execution_count": 82,
   "metadata": {
    "tags": []
   },
   "outputs": [
    {
     "name": "stdout",
     "output_type": "stream",
     "text": [
      "Task: #0. Path found! Length: 64. Search tree size: 1782. Number of steps: 1758. Correct: True\n",
      "Task: #1. Path found! Length: 197. Search tree size: 7452. Number of steps: 7449. Correct: True\n",
      "CPU times: user 7.69 s, sys: 6.76 ms, total: 7.7 s\n",
      "Wall time: 7.7 s\n"
     ]
    }
   ],
   "source": [
    "\"\"\"\n",
    "This runs the search algorithm on two larger instances.\n",
    "The default (list-based) implementation for OPEN/CLOSED will be slow.\n",
    "\"\"\"\n",
    "%time res = dijk_stat = massive_test(dijkstra, \"data/\", 2, SearchTreeL)"
   ]
  },
  {
   "attachments": {},
   "cell_type": "markdown",
   "metadata": {},
   "source": [
    "With your efficient implementation of OPEN/CLOSED solving the same large instances should take much less time."
   ]
  },
  {
   "cell_type": "code",
   "execution_count": 83,
   "metadata": {},
   "outputs": [
    {
     "name": "stdout",
     "output_type": "stream",
     "text": [
      "Task: #0. Path found! Length: 64. Search tree size: 1801. Number of steps: 1750. Correct: True\n",
      "Task: #1. Path found! Length: 197. Search tree size: 7455. Number of steps: 7449. Correct: True\n",
      "CPU times: user 85.5 ms, sys: 3.61 ms, total: 89.1 ms\n",
      "Wall time: 89.2 ms\n"
     ]
    }
   ],
   "source": [
    "\"\"\"\n",
    "With your (non list-based) implementation of OPEN/CLOSED it should be much faster\n",
    "\"\"\"\n",
    "%time res = dijk_stat = massive_test(dijkstra, \"data/\", 2, SearchTreePQD)"
   ]
  },
  {
   "attachments": {},
   "cell_type": "markdown",
   "metadata": {},
   "source": [
    "Finally, let's run your efficient implementation of Dijkstra on the full set of\n",
    "large instances (9 instances in total). \n",
    "\n",
    "Indeed, every instance shall be solved correctly.\n",
    "\n",
    "On my modern laptop (2022 Asus, Intel iCore7, 16Gb RAM, SSD) the entire test finishes \n",
    "in under 10 seconds."
   ]
  },
  {
   "cell_type": "code",
   "execution_count": 84,
   "metadata": {
    "tags": []
   },
   "outputs": [
    {
     "name": "stdout",
     "output_type": "stream",
     "text": [
      "Task: #0. Path found! Length: 64. Search tree size: 1801. Number of steps: 1750. Correct: True\n",
      "Task: #1. Path found! Length: 197. Search tree size: 7455. Number of steps: 7449. Correct: True\n",
      "Task: #2. Path found! Length: 462. Search tree size: 45914. Number of steps: 45896. Correct: True\n",
      "Task: #3. Path found! Length: 498. Search tree size: 44471. Number of steps: 44441. Correct: True\n",
      "Task: #4. Path found! Length: 479. Search tree size: 47545. Number of steps: 47533. Correct: True\n",
      "Task: #5. Path found! Length: 402. Search tree size: 28178. Number of steps: 28173. Correct: True\n",
      "Task: #6. Path found! Length: 721. Search tree size: 112547. Number of steps: 112406. Correct: True\n",
      "Task: #7. Path found! Length: 678. Search tree size: 77497. Number of steps: 77376. Correct: True\n",
      "Task: #8. Path found! Length: 683. Search tree size: 95929. Number of steps: 95875. Correct: True\n",
      "CPU times: user 4.09 s, sys: 39.2 ms, total: 4.13 s\n",
      "Wall time: 4.13 s\n"
     ]
    }
   ],
   "source": [
    "\"\"\"\n",
    "Lastly, test the efficient implementation of Dijkstra on the complete set of large instances (9 in total). \n",
    "Every test should execute correctly.\n",
    "\n",
    "On my modern laptop (2022 Asus, Intel iCore7, 16Gb RAM, SSD) the entire test finishes \n",
    "in under 10 seconds.\n",
    "\"\"\"\n",
    "%time res = dijk_stat = massive_test(dijkstra, \"data/\", 9, SearchTreePQD)"
   ]
  },
  {
   "cell_type": "code",
   "execution_count": 87,
   "metadata": {},
   "outputs": [
    {
     "data": {
      "text/plain": [
       "(np.float64(51259.666666666664), np.float64(51211.0))"
      ]
     },
     "execution_count": 87,
     "metadata": {},
     "output_type": "execute_result"
    }
   ],
   "source": [
    "np.array(dijk_stat[\"st_size\"]).mean(), np.array(dijk_stat[\"steps\"]).mean()"
   ]
  }
 ],
 "metadata": {
  "kernelspec": {
   "display_name": ".venv",
   "language": "python",
   "name": "python3"
  },
  "language_info": {
   "codemirror_mode": {
    "name": "ipython",
    "version": 3
   },
   "file_extension": ".py",
   "mimetype": "text/x-python",
   "name": "python",
   "nbconvert_exporter": "python",
   "pygments_lexer": "ipython3",
   "version": "3.12.3"
  }
 },
 "nbformat": 4,
 "nbformat_minor": 4
}
